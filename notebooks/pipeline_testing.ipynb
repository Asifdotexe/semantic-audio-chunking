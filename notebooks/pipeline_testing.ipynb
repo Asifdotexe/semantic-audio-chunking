{
 "cells": [
  {
   "cell_type": "markdown",
   "metadata": {},
   "source": [
    "# Download video and extract audio from video file"
   ]
  },
  {
   "cell_type": "code",
   "execution_count": 1,
   "metadata": {},
   "outputs": [],
   "source": [
    "#pip install pytube \n",
    "#pip install moviepy\n",
    "#pip install transformers datasets torchaudio\n",
    "#pip install soundfile"
   ]
  },
  {
   "cell_type": "code",
   "execution_count": 3,
   "metadata": {},
   "outputs": [],
   "source": [
    "import time\n",
    "import pytube\n",
    "import moviepy.editor as mp\n",
    "import torch\n",
    "import torchaudio\n",
    "from transformers import Wav2Vec2ForCTC, Wav2Vec2Tokenizer"
   ]
  },
  {
   "cell_type": "code",
   "execution_count": 4,
   "metadata": {},
   "outputs": [],
   "source": [
    "# input youtube video file\n",
    "################################################################\n",
    "# supervised link: Morning News\n",
    "# url = 'https://www.youtube.com/watch?v=ysLiABvVos8'\n",
    "\n",
    "# youtube short\n",
    "url = 'https://www.youtube.com/shorts/U0NPhFkt53Q'\n",
    "\n",
    "# testing link: Speaker on AI Health and Education\n",
    "# url = 'https://www.youtube.com/watch?v=Sby1uJ_NFIY'"
   ]
  },
  {
   "cell_type": "markdown",
   "metadata": {},
   "source": [
    "# Download"
   ]
  },
  {
   "cell_type": "code",
   "execution_count": 5,
   "metadata": {},
   "outputs": [],
   "source": [
    "# creating a youtube object\n",
    "yt = pytube.YouTube(url)\n",
    "# filtering and selecting video\n",
    "filtered_yt = yt.streams.filter(only_audio=True).first()"
   ]
  },
  {
   "cell_type": "code",
   "execution_count": 6,
   "metadata": {},
   "outputs": [
    {
     "name": "stdout",
     "output_type": "stream",
     "text": [
      "Download took 0.283 seconds\n"
     ]
    }
   ],
   "source": [
    "# downloading the video file\n",
    "start_time = time.time()\n",
    "filtered_yt.download(filename=r'..\\data\\youtube_short.mp4')\n",
    "end_time = time.time()\n",
    "download_time = end_time - start_time\n",
    "print(f\"Download took {download_time:.3f} seconds\")"
   ]
  },
  {
   "cell_type": "markdown",
   "metadata": {},
   "source": [
    "# Extract"
   ]
  },
  {
   "cell_type": "code",
   "execution_count": 7,
   "metadata": {},
   "outputs": [
    {
     "name": "stdout",
     "output_type": "stream",
     "text": [
      "MoviePy - Writing audio in ..\\data\\morning_news.wav\n"
     ]
    },
    {
     "name": "stderr",
     "output_type": "stream",
     "text": [
      "                                                                      "
     ]
    },
    {
     "name": "stdout",
     "output_type": "stream",
     "text": [
      "MoviePy - Done.\n"
     ]
    },
    {
     "name": "stderr",
     "output_type": "stream",
     "text": [
      "\r"
     ]
    }
   ],
   "source": [
    "# audio extraction\n",
    "clip = mp.AudioFileClip(filename=r'..\\data\\youtube_short.mp4')\n",
    "clip.write_audiofile(r'..\\data\\morning_news.wav')"
   ]
  },
  {
   "cell_type": "markdown",
   "metadata": {},
   "source": [
    "# Transcription"
   ]
  },
  {
   "cell_type": "code",
   "execution_count": 8,
   "metadata": {},
   "outputs": [
    {
     "name": "stderr",
     "output_type": "stream",
     "text": [
      "The tokenizer class you load from this checkpoint is not the same type as the class this function is called from. It may result in unexpected tokenization. \n",
      "The tokenizer class you load from this checkpoint is 'Wav2Vec2CTCTokenizer'. \n",
      "The class this function is called from is 'Wav2Vec2Tokenizer'.\n",
      "Some weights of the model checkpoint at facebook/wav2vec2-large-960h were not used when initializing Wav2Vec2ForCTC: ['wav2vec2.encoder.pos_conv_embed.conv.weight_g', 'wav2vec2.encoder.pos_conv_embed.conv.weight_v']\n",
      "- This IS expected if you are initializing Wav2Vec2ForCTC from the checkpoint of a model trained on another task or with another architecture (e.g. initializing a BertForSequenceClassification model from a BertForPreTraining model).\n",
      "- This IS NOT expected if you are initializing Wav2Vec2ForCTC from the checkpoint of a model that you expect to be exactly identical (initializing a BertForSequenceClassification model from a BertForSequenceClassification model).\n",
      "Some weights of Wav2Vec2ForCTC were not initialized from the model checkpoint at facebook/wav2vec2-large-960h and are newly initialized: ['wav2vec2.encoder.pos_conv_embed.conv.parametrizations.weight.original0', 'wav2vec2.encoder.pos_conv_embed.conv.parametrizations.weight.original1', 'wav2vec2.masked_spec_embed']\n",
      "You should probably TRAIN this model on a down-stream task to be able to use it for predictions and inference.\n"
     ]
    }
   ],
   "source": [
    "# loading pretrained model and tokenizer\n",
    "tokeniztor = Wav2Vec2Tokenizer.from_pretrained(\"facebook/wav2vec2-large-960h\")\n",
    "model = Wav2Vec2ForCTC.from_pretrained(\"facebook/wav2vec2-large-960h\")"
   ]
  },
  {
   "cell_type": "code",
   "execution_count": 9,
   "metadata": {},
   "outputs": [],
   "source": [
    "# load audio file\n",
    "audio_input, sample_rate = torchaudio.load(r'..\\data\\morning_news.wav')"
   ]
  },
  {
   "cell_type": "code",
   "execution_count": 10,
   "metadata": {},
   "outputs": [],
   "source": [
    "# preprocessing audio\n",
    "input_values = tokeniztor(audio_input.squeeze().numpy(), return_tensors='pt').input_values"
   ]
  },
  {
   "cell_type": "code",
   "execution_count": 11,
   "metadata": {},
   "outputs": [],
   "source": [
    "# setting the chunk size to 15 seconds in samples\n",
    "chunk_size = 15 * sample_rate"
   ]
  },
  {
   "cell_type": "code",
   "execution_count": 12,
   "metadata": {},
   "outputs": [],
   "source": [
    "# Split audio into chunks\n",
    "chunks = [audio_input[:, i:i + chunk_size] for i in range(0, audio_input.size(1), chunk_size)]"
   ]
  },
  {
   "cell_type": "code",
   "execution_count": 13,
   "metadata": {},
   "outputs": [
    {
     "name": "stdout",
     "output_type": "stream",
     "text": [
      "Processing chunk 1/4\n",
      "Processing chunk 2/4\n",
      "Processing chunk 3/4\n",
      "Processing chunk 4/4\n"
     ]
    }
   ],
   "source": [
    "# Process each chunk\n",
    "transcriptions = []\n",
    "for i, chunk in enumerate(chunks):\n",
    "    print(f\"Processing chunk {i+1}/{len(chunks)}\")\n",
    "    input_values = tokeniztor(chunk.squeeze().numpy(), return_tensors=\"pt\", padding=\"longest\").input_values\n",
    "    with torch.no_grad():\n",
    "        logits = model(input_values).logits\n",
    "    predicted_ids = logits.argmax(dim=-1)\n",
    "    transcription = tokeniztor.decode(predicted_ids[0])\n",
    "    transcriptions.append(transcription)"
   ]
  },
  {
   "cell_type": "code",
   "execution_count": 15,
   "metadata": {},
   "outputs": [
    {
     "name": "stdout",
     "output_type": "stream",
     "text": [
      "Full Transcription:\n",
      "A PARTU PAPAR T VE PA OTR PAR FOLPA FAYE   BASHIN RUNSHIN CA  MA CHISH BAN FAMCH A PASHTER BOSAPOUSHAL POSH O BA SHOED FL OAB WAH   WAH FORAN UL OR ASHA PAN LORID BID ALUSH E ANSHPUT LS TOA BETRBO WEA NSAMBE TRISTAAFAAN HUMN AU TOSH AN EFOMLUTME TOR HOMISHO SHORA OALL ASHHUM UTM FUR AL AS WOSH WA ER  ULIA AUSASTO BA ATOANASHTASHAN TERANPRUS MAANHPOHTA HUMBPESNATORAU U E FU O LE TUR O FINE HURTONPONNYA TFANISE SHON AS AHANSOHOL A FARNABOOL PI MIISH PRATRAGAN TALL BA BAA H SO FORID HAR FOOSHINTOLERABLE O SHA TOA FOLLASH POR TA O TERNO FE LETA T LANSH  WAE ESH OL IS PSH A TANTLTEHN HA NOTECOTATY TEOAPANNEETA TSH PANM UAS FOMSH ARUHART O HOTUA FAR PIOLD WALSHO RESH O OLSAN A TE WAHAME AR APANE AN ANTILL\n"
     ]
    }
   ],
   "source": [
    "# Combine all transcriptions\n",
    "full_transcription = \" \".join(transcriptions)\n",
    "print(\"Full Transcription:\")\n",
    "print(full_transcription)"
   ]
  },
  {
   "cell_type": "code",
   "execution_count": null,
   "metadata": {},
   "outputs": [],
   "source": []
  }
 ],
 "metadata": {
  "kernelspec": {
   "display_name": "venv",
   "language": "python",
   "name": "python3"
  },
  "language_info": {
   "codemirror_mode": {
    "name": "ipython",
    "version": 3
   },
   "file_extension": ".py",
   "mimetype": "text/x-python",
   "name": "python",
   "nbconvert_exporter": "python",
   "pygments_lexer": "ipython3",
   "version": "3.11.3"
  }
 },
 "nbformat": 4,
 "nbformat_minor": 2
}
