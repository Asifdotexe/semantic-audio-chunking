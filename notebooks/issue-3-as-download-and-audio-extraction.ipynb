{
 "cells": [
  {
   "cell_type": "markdown",
   "metadata": {},
   "source": [
    "# Download video and extract audio from video file"
   ]
  },
  {
   "cell_type": "code",
   "execution_count": 5,
   "metadata": {},
   "outputs": [],
   "source": [
    "#pip install pytube \n",
    "#pip install moviepy"
   ]
  },
  {
   "cell_type": "code",
   "execution_count": 10,
   "metadata": {},
   "outputs": [],
   "source": [
    "import time\n",
    "import pytube\n",
    "import moviepy.editor as mp"
   ]
  },
  {
   "cell_type": "code",
   "execution_count": null,
   "metadata": {},
   "outputs": [],
   "source": [
    "# input youtube video file\n",
    "################################################################\n",
    "# supervised link: Morning News\n",
    "url = 'https://www.youtube.com/watch?v=ysLiABvVos8'\n",
    "\n",
    "# testing link: Speaker on AI Health and Education\n",
    "# url = 'https://www.youtube.com/watch?v=Sby1uJ_NFIY'"
   ]
  },
  {
   "cell_type": "code",
   "execution_count": 6,
   "metadata": {},
   "outputs": [],
   "source": [
    "# creating a youtube object\n",
    "yt = pytube.YouTube(url)\n",
    "# filtering and selecting video\n",
    "filtered_yt = yt.streams.filter(only_audio=True).first()"
   ]
  },
  {
   "cell_type": "code",
   "execution_count": 13,
   "metadata": {},
   "outputs": [
    {
     "name": "stdout",
     "output_type": "stream",
     "text": [
      "Download took 0.001 seconds\n"
     ]
    }
   ],
   "source": [
    "# downloading the video file\n",
    "start_time = time.time()\n",
    "filtered_yt.download(filename=r'..\\data\\morning_news.mp4')\n",
    "end_time = time.time()\n",
    "download_time = end_time - start_time\n",
    "print(f\"Download took {download_time:.3f} seconds\")"
   ]
  },
  {
   "cell_type": "code",
   "execution_count": null,
   "metadata": {},
   "outputs": [],
   "source": []
  }
 ],
 "metadata": {
  "kernelspec": {
   "display_name": "venv",
   "language": "python",
   "name": "python3"
  },
  "language_info": {
   "codemirror_mode": {
    "name": "ipython",
    "version": 3
   },
   "file_extension": ".py",
   "mimetype": "text/x-python",
   "name": "python",
   "nbconvert_exporter": "python",
   "pygments_lexer": "ipython3",
   "version": "3.11.3"
  }
 },
 "nbformat": 4,
 "nbformat_minor": 2
}
